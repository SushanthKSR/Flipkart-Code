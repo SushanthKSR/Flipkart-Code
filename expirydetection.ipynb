{
 "cells": [
  {
   "cell_type": "code",
   "execution_count": 5,
   "metadata": {},
   "outputs": [
    {
     "name": "stdout",
     "output_type": "stream",
     "text": [
      "[2024/10/20 22:21:31] ppocr DEBUG: Namespace(help='==SUPPRESS==', use_gpu=False, use_xpu=False, use_npu=False, use_mlu=False, ir_optim=True, use_tensorrt=False, min_subgraph_size=15, precision='fp32', gpu_mem=500, gpu_id=0, image_dir=None, page_num=0, det_algorithm='DB', det_model_dir='/Users/sushanthkesamreddy/.paddleocr/whl/det/en/en_PP-OCRv3_det_infer', det_limit_side_len=960, det_limit_type='max', det_box_type='quad', det_db_thresh=0.3, det_db_box_thresh=0.6, det_db_unclip_ratio=1.5, max_batch_size=10, use_dilation=False, det_db_score_mode='fast', det_east_score_thresh=0.8, det_east_cover_thresh=0.1, det_east_nms_thresh=0.2, det_sast_score_thresh=0.5, det_sast_nms_thresh=0.2, det_pse_thresh=0, det_pse_box_thresh=0.85, det_pse_min_area=16, det_pse_scale=1, scales=[8, 16, 32], alpha=1.0, beta=1.0, fourier_degree=5, rec_algorithm='SVTR_LCNet', rec_model_dir='/Users/sushanthkesamreddy/.paddleocr/whl/rec/en/en_PP-OCRv4_rec_infer', rec_image_inverse=True, rec_image_shape='3, 48, 320', rec_batch_num=6, max_text_length=25, rec_char_dict_path='/Users/sushanthkesamreddy/Documents/ItemExpModel/venv/lib/python3.12/site-packages/paddleocr/ppocr/utils/en_dict.txt', use_space_char=True, vis_font_path='./doc/fonts/simfang.ttf', drop_score=0.5, e2e_algorithm='PGNet', e2e_model_dir=None, e2e_limit_side_len=768, e2e_limit_type='max', e2e_pgnet_score_thresh=0.5, e2e_char_dict_path='./ppocr/utils/ic15_dict.txt', e2e_pgnet_valid_set='totaltext', e2e_pgnet_mode='fast', use_angle_cls=True, cls_model_dir='/Users/sushanthkesamreddy/.paddleocr/whl/cls/ch_ppocr_mobile_v2.0_cls_infer', cls_image_shape='3, 48, 192', label_list=['0', '180'], cls_batch_num=6, cls_thresh=0.9, enable_mkldnn=False, cpu_threads=10, use_pdserving=False, warmup=False, sr_model_dir=None, sr_image_shape='3, 32, 128', sr_batch_num=1, draw_img_save_dir='./inference_results', save_crop_res=False, crop_res_save_dir='./output', use_mp=False, total_process_num=1, process_id=0, benchmark=False, save_log_path='./log_output/', show_log=True, use_onnx=False, return_word_box=False, output='./output', table_max_len=488, table_algorithm='TableAttn', table_model_dir=None, merge_no_span_structure=True, table_char_dict_path=None, formula_algorithm='LaTeXOCR', formula_model_dir=None, formula_char_dict_path=None, formula_batch_num=1, layout_model_dir=None, layout_dict_path=None, layout_score_threshold=0.5, layout_nms_threshold=0.5, kie_algorithm='LayoutXLM', ser_model_dir=None, re_model_dir=None, use_visual_backbone=True, ser_dict_path='../train_data/XFUND/class_list_xfun.txt', ocr_order_method=None, mode='structure', image_orientation=False, layout=True, table=True, formula=False, ocr=True, recovery=False, recovery_to_markdown=False, use_pdf2docx_api=False, invert=False, binarize=False, alphacolor=(255, 255, 255), lang='en', det=True, rec=True, type='ocr', savefile=False, ocr_version='PP-OCRv4', structure_version='PP-StructureV2')\n",
      "[2024/10/20 22:21:36] ppocr DEBUG: dt_boxes num : 82, elapsed : 0.7321610450744629\n",
      "[2024/10/20 22:21:37] ppocr DEBUG: cls num  : 82, elapsed : 0.47780489921569824\n",
      "[2024/10/20 22:21:43] ppocr DEBUG: rec_res num  : 82, elapsed : 6.8524980545043945\n",
      "Detected Expiry Dates:\n",
      "08/01/25\n"
     ]
    }
   ],
   "source": [
    "import os\n",
    "from paddleocr import PaddleOCR\n",
    "import re\n",
    "\n",
    "# Initialize the OCR model\n",
    "ocr_model = PaddleOCR(use_angle_cls=True, lang='en')\n",
    "\n",
    "# Set the image path\n",
    "img_path = os.path.join('/Users/sushanthkesamreddy/Documents/ItemExpModel/Captured_Images/WhatsApp Image 2024-10-20 at 21.34.17.jpeg')\n",
    "\n",
    "# Run the OCR method on the image\n",
    "result = ocr_model.ocr(img_path)\n",
    "\n",
    "# Function to extract expiry dates from OCR results\n",
    "def extract_expiry_dates(result):\n",
    "    expiry_dates = []  # List to hold detected expiry dates\n",
    "    for res in result:\n",
    "        for line in res:\n",
    "            text = line[1][0]\n",
    "            # Using regex to find expiry dates (e.g., \"Exp. 31-12-2024\" or \"31/12/2024\")\n",
    "            match = re.search(r'\\b(?:exp\\.?|expiry|expires)?\\s*:?[-]?\\s*(\\d{1,2}[-/]\\d{1,2}[-/]\\d{2,4})\\b', text, re.IGNORECASE)\n",
    "            if match:\n",
    "                expiry_dates.append(match.group(1))  # Add found date to the list\n",
    "    return expiry_dates\n",
    "\n",
    "# Extract expiry dates from the results\n",
    "expiry_dates_found = extract_expiry_dates(result)\n",
    "\n",
    "# Print all detected expiry dates\n",
    "if expiry_dates_found:\n",
    "    print(\"Detected Expiry Dates:\")\n",
    "    for date in expiry_dates_found:\n",
    "        print(date)\n",
    "else:\n",
    "    print(\"No expiry dates found in the image.\")"
   ]
  }
 ],
 "metadata": {
  "kernelspec": {
   "display_name": "venv",
   "language": "python",
   "name": "python3"
  },
  "language_info": {
   "codemirror_mode": {
    "name": "ipython",
    "version": 3
   },
   "file_extension": ".py",
   "mimetype": "text/x-python",
   "name": "python",
   "nbconvert_exporter": "python",
   "pygments_lexer": "ipython3",
   "version": "3.12.4"
  }
 },
 "nbformat": 4,
 "nbformat_minor": 2
}
